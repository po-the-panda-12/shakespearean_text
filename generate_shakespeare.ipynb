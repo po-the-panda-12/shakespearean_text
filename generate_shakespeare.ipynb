{
 "cells": [
  {
   "cell_type": "markdown",
   "id": "bd281301",
   "metadata": {},
   "source": [
    "# Generating Shakespearean Text"
   ]
  },
  {
   "cell_type": "markdown",
   "id": "6b84328a",
   "metadata": {},
   "source": [
    "1. Importing ibraries"
   ]
  },
  {
   "cell_type": "code",
   "execution_count": 1,
   "id": "dcb55bdc",
   "metadata": {},
   "outputs": [],
   "source": [
    "import numpy as np\n",
    "import re #text cleaning\n",
    "from urllib.request import urlopen #url handling\n",
    "import threading \n",
    "from multiprocessing.pool import ThreadPool #for pool for multithreading\n",
    "import spacy\n",
    "import markovify\n",
    "import nltk\n",
    "from nltk.corpus import gutenberg #using gutenberg corpus (files contain dialogues only)\n",
    "import warnings\n",
    "# warnings.filterwarnings('ignore')\n",
    "# nltk.download('gutenberg')\n",
    "# !python3 -m spacy download en_core_web_sm #english setting"
   ]
  },
  {
   "cell_type": "code",
   "execution_count": null,
   "id": "c7e6f9f2",
   "metadata": {},
   "outputs": [],
   "source": [
    "# inspect Gutenberg corpus\n",
    "# print(gutenberg.fileids())"
   ]
  },
  {
   "cell_type": "markdown",
   "id": "b97bdb5c",
   "metadata": {},
   "source": [
    "2. Store reference text files"
   ]
  },
  {
   "cell_type": "code",
   "execution_count": 2,
   "id": "342040bc",
   "metadata": {},
   "outputs": [],
   "source": [
    "# hamlet_raw = urlopen(\"https://www.gutenberg.org/cache/epub/1524/pg1524.txt\").read().decode('utf8')\n",
    "hamlet_raw = gutenberg.raw('shakespeare-hamlet.txt')\n",
    "macbeth_raw = gutenberg.raw('shakespeare-macbeth.txt')\n",
    "caesar_raw = gutenberg.raw('shakespeare-caesar.txt')"
   ]
  },
  {
   "cell_type": "code",
   "execution_count": null,
   "id": "f64aab9c",
   "metadata": {},
   "outputs": [],
   "source": [
    "# inspect reference text files\n",
    "\n",
    "# print(\"H:\",hamlet_raw[100:200])\n",
    "# print(\"M:\",macbeth_raw[100:200])\n",
    "# print(\"C:\",caesar_raw[100:200])"
   ]
  },
  {
   "cell_type": "markdown",
   "id": "35b6aeff",
   "metadata": {},
   "source": [
    "3. Clean reference text files"
   ]
  },
  {
   "cell_type": "code",
   "execution_count": 3,
   "id": "b9b0a364",
   "metadata": {},
   "outputs": [],
   "source": [
    "#utility (sub) function for text cleaning\n",
    "def text_cleaner(text):\n",
    "    text = re.sub(r'--', ' ', text)\n",
    "    text = re.sub('[\\[].*?[\\]]', '', text)\n",
    "    text = re.sub(r'(\\b|\\s+\\-?|^\\-?)(\\d+|\\d*\\.\\d+)\\b','', text)\n",
    "    text = ' '.join(text.split())\n",
    "    return text"
   ]
  },
  {
   "cell_type": "code",
   "execution_count": 4,
   "id": "5e10a35b",
   "metadata": {},
   "outputs": [],
   "source": [
    "pool = ThreadPool() #create multithreading pool\n",
    "nlp = spacy.load('en_core_web_sm') #use English language"
   ]
  },
  {
   "cell_type": "code",
   "execution_count": 5,
   "id": "4c2f1306",
   "metadata": {},
   "outputs": [],
   "source": [
    "#main function for cleaning and parsing text\n",
    "def cleaning(raw): \n",
    "\n",
    "    raw = re.sub(r'Chapter \\d+', '', raw)\n",
    "    cleaned = text_cleaner(raw)\n",
    "    parsed = nlp(cleaned)\n",
    "    sents = ' '.join([sent.text for sent in parsed.sents if len(sent.text) > 1])\n",
    "#     print(sents[-100:])\n",
    "    return sents"
   ]
  },
  {
   "cell_type": "code",
   "execution_count": 6,
   "id": "c950ad80",
   "metadata": {},
   "outputs": [],
   "source": [
    "#store cleaned sentences in shakespeare_sents\n",
    "\n",
    "shakespeare_sents = pool.map(cleaning, [hamlet_raw, macbeth_raw, caesar_raw])\n",
    "# shakespeare_sents"
   ]
  },
  {
   "cell_type": "markdown",
   "id": "88c8b811",
   "metadata": {},
   "source": [
    "4. Markov model for sentence generation"
   ]
  },
  {
   "cell_type": "code",
   "execution_count": 7,
   "id": "03e45430",
   "metadata": {},
   "outputs": [],
   "source": [
    "chains = []\n",
    "mk_chain = markovify.Text(shakespeare_sents, state_size = 3)\n",
    "chains.append(mk_chain)\n",
    "model = markovify.combine(chains)"
   ]
  },
  {
   "cell_type": "code",
   "execution_count": null,
   "id": "6e37dc3c",
   "metadata": {},
   "outputs": [],
   "source": [
    "# Testing\n",
    "# model.make_sentence()"
   ]
  },
  {
   "cell_type": "code",
   "execution_count": 8,
   "id": "5acdac69",
   "metadata": {},
   "outputs": [],
   "source": [
    "lock = threading.Lock()\n",
    "arr = [] #global variable for all sentences\n",
    "\n",
    "#utility function for threading\n",
    "def create_text_array(n):\n",
    "    \n",
    "    global arr\n",
    "    local_arr = []\n",
    "    for i in range(n):\n",
    "        \n",
    "        txt = model.make_sentence()\n",
    "        while txt == None:\n",
    "            txt = model.make_short_sentence(100)\n",
    "            \n",
    "        local_arr.append(txt)\n",
    "        \n",
    "    lock.acquire()\n",
    "    arr = arr + local_arr\n",
    "    lock.release()\n",
    "        \n",
    "        \n",
    "    return arr\n"
   ]
  },
  {
   "cell_type": "code",
   "execution_count": 9,
   "id": "3bda93ca",
   "metadata": {},
   "outputs": [],
   "source": [
    "#Run multithreading to store data into global arr\n",
    "\n",
    "thread1 = threading.Thread(target = create_text_array, args = [25])\n",
    "thread2 = threading.Thread(target = create_text_array, args = [25])\n",
    "\n",
    "thread1.start()\n",
    "thread2.start()\n",
    "\n",
    "thread1.join()\n",
    "thread2.join()\n",
    "\n",
    "# print(arr)"
   ]
  },
  {
   "cell_type": "markdown",
   "id": "d3259e09",
   "metadata": {},
   "source": [
    "5. Store generated sentences into text file"
   ]
  },
  {
   "cell_type": "code",
   "execution_count": 10,
   "id": "360d490d",
   "metadata": {},
   "outputs": [],
   "source": [
    "with open('new_file.txt', 'w') as file:\n",
    "    for line in arr:\n",
    "        file.write(\"%s\\n\" % line)"
   ]
  },
  {
   "cell_type": "code",
   "execution_count": null,
   "id": "1c984a28",
   "metadata": {},
   "outputs": [],
   "source": []
  }
 ],
 "metadata": {
  "kernelspec": {
   "display_name": "Python 3 (ipykernel)",
   "language": "python",
   "name": "python3"
  },
  "language_info": {
   "codemirror_mode": {
    "name": "ipython",
    "version": 3
   },
   "file_extension": ".py",
   "mimetype": "text/x-python",
   "name": "python",
   "nbconvert_exporter": "python",
   "pygments_lexer": "ipython3",
   "version": "3.10.1"
  }
 },
 "nbformat": 4,
 "nbformat_minor": 5
}
